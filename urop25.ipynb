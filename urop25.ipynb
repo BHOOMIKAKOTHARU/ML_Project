{
 "cells": [
  {
   "cell_type": "markdown",
   "id": "186c3f32",
   "metadata": {},
   "source": [
    "# 25 persons\n",
    "## electrodes : 8, 16, 32, 64"
   ]
  },
  {
   "cell_type": "code",
   "execution_count": 37,
   "id": "77ce0f21",
   "metadata": {},
   "outputs": [],
   "source": [
    "from glob import glob\n",
    "import os\n",
    "import mne\n",
    "import numpy as np\n",
    "import pandas as pd\n",
    "from sklearn.metrics import classification_report\n",
    "from sklearn import preprocessing\n",
    "from sklearn.preprocessing import StandardScaler\n",
    "import tensorflow as tf\n",
    "from sklearn.linear_model import LogisticRegression"
   ]
  },
  {
   "cell_type": "code",
   "execution_count": 38,
   "id": "42d4276f",
   "metadata": {},
   "outputs": [],
   "source": [
    "no_of_patients=25"
   ]
  },
  {
   "cell_type": "code",
   "execution_count": 39,
   "id": "9085fdeb",
   "metadata": {},
   "outputs": [
    {
     "data": {
      "text/plain": [
       "['C:/aditya/Research_Intership/eeg_files/files/S001\\\\S001R03.edf',\n",
       " 'C:/aditya/Research_Intership/eeg_files/files/S002\\\\S002R03.edf',\n",
       " 'C:/aditya/Research_Intership/eeg_files/files/S003\\\\S003R03.edf',\n",
       " 'C:/aditya/Research_Intership/eeg_files/files/S004\\\\S004R03.edf',\n",
       " 'C:/aditya/Research_Intership/eeg_files/files/S005\\\\S005R03.edf',\n",
       " 'C:/aditya/Research_Intership/eeg_files/files/S006\\\\S006R03.edf',\n",
       " 'C:/aditya/Research_Intership/eeg_files/files/S007\\\\S007R03.edf',\n",
       " 'C:/aditya/Research_Intership/eeg_files/files/S008\\\\S008R03.edf',\n",
       " 'C:/aditya/Research_Intership/eeg_files/files/S009\\\\S009R03.edf',\n",
       " 'C:/aditya/Research_Intership/eeg_files/files/S010\\\\S010R03.edf',\n",
       " 'C:/aditya/Research_Intership/eeg_files/files/S011\\\\S011R03.edf',\n",
       " 'C:/aditya/Research_Intership/eeg_files/files/S012\\\\S012R03.edf',\n",
       " 'C:/aditya/Research_Intership/eeg_files/files/S013\\\\S013R03.edf',\n",
       " 'C:/aditya/Research_Intership/eeg_files/files/S014\\\\S014R03.edf',\n",
       " 'C:/aditya/Research_Intership/eeg_files/files/S015\\\\S015R03.edf',\n",
       " 'C:/aditya/Research_Intership/eeg_files/files/S016\\\\S016R03.edf',\n",
       " 'C:/aditya/Research_Intership/eeg_files/files/S017\\\\S017R03.edf',\n",
       " 'C:/aditya/Research_Intership/eeg_files/files/S018\\\\S018R03.edf',\n",
       " 'C:/aditya/Research_Intership/eeg_files/files/S019\\\\S019R03.edf',\n",
       " 'C:/aditya/Research_Intership/eeg_files/files/S020\\\\S020R03.edf',\n",
       " 'C:/aditya/Research_Intership/eeg_files/files/S021\\\\S021R03.edf',\n",
       " 'C:/aditya/Research_Intership/eeg_files/files/S022\\\\S022R03.edf',\n",
       " 'C:/aditya/Research_Intership/eeg_files/files/S023\\\\S023R03.edf',\n",
       " 'C:/aditya/Research_Intership/eeg_files/files/S024\\\\S024R03.edf',\n",
       " 'C:/aditya/Research_Intership/eeg_files/files/S025\\\\S025R03.edf']"
      ]
     },
     "execution_count": 39,
     "metadata": {},
     "output_type": "execute_result"
    }
   ],
   "source": [
    "train=[]\n",
    "test=[]\n",
    "for i in range(1,no_of_patients+1):\n",
    "    files=glob('C:/aditya/Research_Intership/eeg_files/files/S'+str(str(i).zfill(3))+'/*.edf')\n",
    "    files=files[2:3]\n",
    "    train+=files\n",
    "train"
   ]
  },
  {
   "cell_type": "code",
   "execution_count": 40,
   "id": "79ca7666",
   "metadata": {},
   "outputs": [],
   "source": [
    "train_split=0.8"
   ]
  },
  {
   "cell_type": "code",
   "execution_count": 41,
   "id": "ddb63fec",
   "metadata": {},
   "outputs": [],
   "source": [
    "def read_data(i):\n",
    "    raw = mne.io.read_raw_edf(i, preload=True)\n",
    "    eeg_data = raw.get_data()\n",
    "    eeg_channels = [f'Channel_{i}' for i in range(eeg_data.shape[0])]\n",
    "    eeg_df = pd.DataFrame(data=eeg_data.T, columns=eeg_channels)\n",
    "    \n",
    "    eeg_df = eeg_df.iloc[:15000]\n",
    "    eeg_df.sample()\n",
    "    \n",
    "    idx1= int(train_split*(len(eeg_df)))\n",
    "    idx2= int(train_split*(len(eeg_df)))+1\n",
    "        \n",
    "    eeg_df1=eeg_df.iloc[:idx1]\n",
    "    eeg_df2=eeg_df.iloc[idx2:]\n",
    "    \n",
    "    return eeg_df1,eeg_df2, len(eeg_df1),len(eeg_df2)"
   ]
  },
  {
   "cell_type": "code",
   "execution_count": 42,
   "id": "65857e70",
   "metadata": {},
   "outputs": [
    {
     "name": "stdout",
     "output_type": "stream",
     "text": [
      "Extracting EDF parameters from C:\\aditya\\Research_Intership\\eeg_files\\files\\S001\\S001R03.edf...\n",
      "EDF file detected\n",
      "Setting channel info structure...\n",
      "Creating raw.info structure...\n",
      "Reading 0 ... 19999  =      0.000 ...   124.994 secs...\n",
      "Extracting EDF parameters from C:\\aditya\\Research_Intership\\eeg_files\\files\\S002\\S002R03.edf...\n",
      "EDF file detected\n",
      "Setting channel info structure...\n",
      "Creating raw.info structure...\n",
      "Reading 0 ... 19679  =      0.000 ...   122.994 secs...\n",
      "Extracting EDF parameters from C:\\aditya\\Research_Intership\\eeg_files\\files\\S003\\S003R03.edf...\n",
      "EDF file detected\n",
      "Setting channel info structure...\n",
      "Creating raw.info structure...\n",
      "Reading 0 ... 19999  =      0.000 ...   124.994 secs...\n",
      "Extracting EDF parameters from C:\\aditya\\Research_Intership\\eeg_files\\files\\S004\\S004R03.edf...\n",
      "EDF file detected\n",
      "Setting channel info structure...\n",
      "Creating raw.info structure...\n",
      "Reading 0 ... 19679  =      0.000 ...   122.994 secs...\n",
      "Extracting EDF parameters from C:\\aditya\\Research_Intership\\eeg_files\\files\\S005\\S005R03.edf...\n",
      "EDF file detected\n",
      "Setting channel info structure...\n",
      "Creating raw.info structure...\n",
      "Reading 0 ... 19679  =      0.000 ...   122.994 secs...\n",
      "Extracting EDF parameters from C:\\aditya\\Research_Intership\\eeg_files\\files\\S006\\S006R03.edf...\n",
      "EDF file detected\n",
      "Setting channel info structure...\n",
      "Creating raw.info structure...\n",
      "Reading 0 ... 19679  =      0.000 ...   122.994 secs...\n",
      "Extracting EDF parameters from C:\\aditya\\Research_Intership\\eeg_files\\files\\S007\\S007R03.edf...\n",
      "EDF file detected\n",
      "Setting channel info structure...\n",
      "Creating raw.info structure...\n",
      "Reading 0 ... 19999  =      0.000 ...   124.994 secs...\n",
      "Extracting EDF parameters from C:\\aditya\\Research_Intership\\eeg_files\\files\\S008\\S008R03.edf...\n",
      "EDF file detected\n",
      "Setting channel info structure...\n",
      "Creating raw.info structure...\n",
      "Reading 0 ... 19679  =      0.000 ...   122.994 secs...\n",
      "Extracting EDF parameters from C:\\aditya\\Research_Intership\\eeg_files\\files\\S009\\S009R03.edf...\n",
      "EDF file detected\n",
      "Setting channel info structure...\n",
      "Creating raw.info structure...\n",
      "Reading 0 ... 19679  =      0.000 ...   122.994 secs...\n",
      "Extracting EDF parameters from C:\\aditya\\Research_Intership\\eeg_files\\files\\S010\\S010R03.edf...\n",
      "EDF file detected\n",
      "Setting channel info structure...\n",
      "Creating raw.info structure...\n",
      "Reading 0 ... 19679  =      0.000 ...   122.994 secs...\n",
      "Extracting EDF parameters from C:\\aditya\\Research_Intership\\eeg_files\\files\\S011\\S011R03.edf...\n",
      "EDF file detected\n",
      "Setting channel info structure...\n",
      "Creating raw.info structure...\n",
      "Reading 0 ... 19679  =      0.000 ...   122.994 secs...\n",
      "Extracting EDF parameters from C:\\aditya\\Research_Intership\\eeg_files\\files\\S012\\S012R03.edf...\n",
      "EDF file detected\n",
      "Setting channel info structure...\n",
      "Creating raw.info structure...\n",
      "Reading 0 ... 19679  =      0.000 ...   122.994 secs...\n",
      "Extracting EDF parameters from C:\\aditya\\Research_Intership\\eeg_files\\files\\S013\\S013R03.edf...\n",
      "EDF file detected\n",
      "Setting channel info structure...\n",
      "Creating raw.info structure...\n",
      "Reading 0 ... 19679  =      0.000 ...   122.994 secs...\n",
      "Extracting EDF parameters from C:\\aditya\\Research_Intership\\eeg_files\\files\\S014\\S014R03.edf...\n",
      "EDF file detected\n",
      "Setting channel info structure...\n",
      "Creating raw.info structure...\n",
      "Reading 0 ... 19679  =      0.000 ...   122.994 secs...\n",
      "Extracting EDF parameters from C:\\aditya\\Research_Intership\\eeg_files\\files\\S015\\S015R03.edf...\n",
      "EDF file detected\n",
      "Setting channel info structure...\n",
      "Creating raw.info structure...\n",
      "Reading 0 ... 19679  =      0.000 ...   122.994 secs...\n",
      "Extracting EDF parameters from C:\\aditya\\Research_Intership\\eeg_files\\files\\S016\\S016R03.edf...\n",
      "EDF file detected\n",
      "Setting channel info structure...\n",
      "Creating raw.info structure...\n",
      "Reading 0 ... 19679  =      0.000 ...   122.994 secs...\n",
      "Extracting EDF parameters from C:\\aditya\\Research_Intership\\eeg_files\\files\\S017\\S017R03.edf...\n",
      "EDF file detected\n",
      "Setting channel info structure...\n",
      "Creating raw.info structure...\n",
      "Reading 0 ... 19679  =      0.000 ...   122.994 secs...\n",
      "Extracting EDF parameters from C:\\aditya\\Research_Intership\\eeg_files\\files\\S018\\S018R03.edf...\n",
      "EDF file detected\n",
      "Setting channel info structure...\n",
      "Creating raw.info structure...\n",
      "Reading 0 ... 19679  =      0.000 ...   122.994 secs...\n",
      "Extracting EDF parameters from C:\\aditya\\Research_Intership\\eeg_files\\files\\S019\\S019R03.edf...\n",
      "EDF file detected\n",
      "Setting channel info structure...\n",
      "Creating raw.info structure...\n",
      "Reading 0 ... 19679  =      0.000 ...   122.994 secs...\n",
      "Extracting EDF parameters from C:\\aditya\\Research_Intership\\eeg_files\\files\\S020\\S020R03.edf...\n",
      "EDF file detected\n",
      "Setting channel info structure...\n",
      "Creating raw.info structure...\n",
      "Reading 0 ... 19679  =      0.000 ...   122.994 secs...\n",
      "Extracting EDF parameters from C:\\aditya\\Research_Intership\\eeg_files\\files\\S021\\S021R03.edf...\n",
      "EDF file detected\n",
      "Setting channel info structure...\n",
      "Creating raw.info structure...\n",
      "Reading 0 ... 19999  =      0.000 ...   124.994 secs...\n",
      "Extracting EDF parameters from C:\\aditya\\Research_Intership\\eeg_files\\files\\S022\\S022R03.edf...\n",
      "EDF file detected\n",
      "Setting channel info structure...\n",
      "Creating raw.info structure...\n",
      "Reading 0 ... 19999  =      0.000 ...   124.994 secs...\n",
      "Extracting EDF parameters from C:\\aditya\\Research_Intership\\eeg_files\\files\\S023\\S023R03.edf...\n",
      "EDF file detected\n",
      "Setting channel info structure...\n",
      "Creating raw.info structure...\n",
      "Reading 0 ... 19679  =      0.000 ...   122.994 secs...\n",
      "Extracting EDF parameters from C:\\aditya\\Research_Intership\\eeg_files\\files\\S024\\S024R03.edf...\n",
      "EDF file detected\n",
      "Setting channel info structure...\n",
      "Creating raw.info structure...\n",
      "Reading 0 ... 19679  =      0.000 ...   122.994 secs...\n",
      "Extracting EDF parameters from C:\\aditya\\Research_Intership\\eeg_files\\files\\S025\\S025R03.edf...\n",
      "EDF file detected\n",
      "Setting channel info structure...\n",
      "Creating raw.info structure...\n",
      "Reading 0 ... 19679  =      0.000 ...   122.994 secs...\n"
     ]
    }
   ],
   "source": [
    "# train_data+=[read_data(train[i]) for i in range(2)]\n",
    "xtemp1=[]\n",
    "xtemp2=[]\n",
    "ytemp1=[]\n",
    "ytemp2=[]\n",
    "for i in range(no_of_patients):\n",
    "    xtr,xte,ytr,yte=read_data(train[i]) # xtr=xtrain, xte=xtest, ytr=ytrain, yte=ytest.\n",
    "    xtemp1.append(xtr)\n",
    "    xtemp2.append(xte)\n",
    "    ytemp1.append(ytr)\n",
    "    ytemp2.append(yte)"
   ]
  },
  {
   "cell_type": "code",
   "execution_count": 43,
   "id": "0aeb31bd",
   "metadata": {},
   "outputs": [],
   "source": [
    "xtrain = pd.concat([xtemp1[i] for i in range(0, len(xtemp1))], ignore_index=True)\n",
    "xtest = pd.concat([xtemp2[i] for i in range(0, len(xtemp2))], ignore_index=True)"
   ]
  },
  {
   "cell_type": "code",
   "execution_count": 44,
   "id": "a47802ff",
   "metadata": {},
   "outputs": [],
   "source": [
    "ytrain=[]\n",
    "for i in range(1,len(ytemp1)+1):\n",
    "    for j in range(ytemp1[i-1]):\n",
    "        ytrain.append(i)\n",
    "ytest=[]\n",
    "for i in range(1,len(ytemp2)+1):\n",
    "    for j in range(ytemp2[i-1]):\n",
    "        ytest.append(i)        "
   ]
  },
  {
   "cell_type": "code",
   "execution_count": 45,
   "id": "705fd1d6",
   "metadata": {},
   "outputs": [
    {
     "data": {
      "text/plain": [
       "(300000, 74975, 300000, 74975)"
      ]
     },
     "execution_count": 45,
     "metadata": {},
     "output_type": "execute_result"
    }
   ],
   "source": [
    "len(xtrain),len(xtest),len(ytrain),len(ytest)"
   ]
  },
  {
   "cell_type": "code",
   "execution_count": 46,
   "id": "0dbd9ea8",
   "metadata": {},
   "outputs": [
    {
     "name": "stdout",
     "output_type": "stream",
     "text": [
      "[-5.7e-05 -4.5e-05 -2.9e-05 ... -4.0e-06 -1.1e-05 -1.6e-05]\n"
     ]
    }
   ],
   "source": [
    "print(xtest.iloc[:,-1].values)"
   ]
  },
  {
   "cell_type": "code",
   "execution_count": 47,
   "id": "8738bdc8",
   "metadata": {},
   "outputs": [
    {
     "data": {
      "text/html": [
       "<div>\n",
       "<style scoped>\n",
       "    .dataframe tbody tr th:only-of-type {\n",
       "        vertical-align: middle;\n",
       "    }\n",
       "\n",
       "    .dataframe tbody tr th {\n",
       "        vertical-align: top;\n",
       "    }\n",
       "\n",
       "    .dataframe thead th {\n",
       "        text-align: right;\n",
       "    }\n",
       "</style>\n",
       "<table border=\"1\" class=\"dataframe\">\n",
       "  <thead>\n",
       "    <tr style=\"text-align: right;\">\n",
       "      <th></th>\n",
       "      <th>Channel_0</th>\n",
       "      <th>Channel_1</th>\n",
       "      <th>Channel_2</th>\n",
       "      <th>Channel_3</th>\n",
       "      <th>Channel_4</th>\n",
       "      <th>Channel_5</th>\n",
       "      <th>Channel_6</th>\n",
       "      <th>Channel_7</th>\n",
       "      <th>Channel_8</th>\n",
       "      <th>Channel_9</th>\n",
       "      <th>...</th>\n",
       "      <th>Channel_54</th>\n",
       "      <th>Channel_55</th>\n",
       "      <th>Channel_56</th>\n",
       "      <th>Channel_57</th>\n",
       "      <th>Channel_58</th>\n",
       "      <th>Channel_59</th>\n",
       "      <th>Channel_60</th>\n",
       "      <th>Channel_61</th>\n",
       "      <th>Channel_62</th>\n",
       "      <th>Channel_63</th>\n",
       "    </tr>\n",
       "  </thead>\n",
       "  <tbody>\n",
       "    <tr>\n",
       "      <th>0</th>\n",
       "      <td>-0.000057</td>\n",
       "      <td>-0.000013</td>\n",
       "      <td>-0.000015</td>\n",
       "      <td>-0.000012</td>\n",
       "      <td>-0.000013</td>\n",
       "      <td>-0.000008</td>\n",
       "      <td>-0.000040</td>\n",
       "      <td>-0.000054</td>\n",
       "      <td>-0.000012</td>\n",
       "      <td>-0.000014</td>\n",
       "      <td>...</td>\n",
       "      <td>-0.000048</td>\n",
       "      <td>-0.000038</td>\n",
       "      <td>-0.000042</td>\n",
       "      <td>-0.000068</td>\n",
       "      <td>-0.000076</td>\n",
       "      <td>-0.000103</td>\n",
       "      <td>-0.000051</td>\n",
       "      <td>-0.000056</td>\n",
       "      <td>-0.000124</td>\n",
       "      <td>-0.000028</td>\n",
       "    </tr>\n",
       "    <tr>\n",
       "      <th>1</th>\n",
       "      <td>-0.000049</td>\n",
       "      <td>-0.000011</td>\n",
       "      <td>-0.000010</td>\n",
       "      <td>-0.000012</td>\n",
       "      <td>-0.000019</td>\n",
       "      <td>-0.000024</td>\n",
       "      <td>-0.000058</td>\n",
       "      <td>-0.000051</td>\n",
       "      <td>-0.000019</td>\n",
       "      <td>-0.000023</td>\n",
       "      <td>...</td>\n",
       "      <td>-0.000055</td>\n",
       "      <td>-0.000055</td>\n",
       "      <td>-0.000063</td>\n",
       "      <td>-0.000082</td>\n",
       "      <td>-0.000087</td>\n",
       "      <td>-0.000099</td>\n",
       "      <td>-0.000059</td>\n",
       "      <td>-0.000070</td>\n",
       "      <td>-0.000149</td>\n",
       "      <td>-0.000040</td>\n",
       "    </tr>\n",
       "    <tr>\n",
       "      <th>2</th>\n",
       "      <td>-0.000055</td>\n",
       "      <td>-0.000017</td>\n",
       "      <td>-0.000016</td>\n",
       "      <td>-0.000019</td>\n",
       "      <td>-0.000024</td>\n",
       "      <td>-0.000029</td>\n",
       "      <td>-0.000066</td>\n",
       "      <td>-0.000061</td>\n",
       "      <td>-0.000030</td>\n",
       "      <td>-0.000036</td>\n",
       "      <td>...</td>\n",
       "      <td>-0.000054</td>\n",
       "      <td>-0.000063</td>\n",
       "      <td>-0.000072</td>\n",
       "      <td>-0.000091</td>\n",
       "      <td>-0.000092</td>\n",
       "      <td>-0.000091</td>\n",
       "      <td>-0.000067</td>\n",
       "      <td>-0.000077</td>\n",
       "      <td>-0.000153</td>\n",
       "      <td>-0.000037</td>\n",
       "    </tr>\n",
       "    <tr>\n",
       "      <th>3</th>\n",
       "      <td>-0.000073</td>\n",
       "      <td>-0.000042</td>\n",
       "      <td>-0.000040</td>\n",
       "      <td>-0.000037</td>\n",
       "      <td>-0.000037</td>\n",
       "      <td>-0.000040</td>\n",
       "      <td>-0.000071</td>\n",
       "      <td>-0.000078</td>\n",
       "      <td>-0.000053</td>\n",
       "      <td>-0.000053</td>\n",
       "      <td>...</td>\n",
       "      <td>-0.000065</td>\n",
       "      <td>-0.000052</td>\n",
       "      <td>-0.000066</td>\n",
       "      <td>-0.000100</td>\n",
       "      <td>-0.000105</td>\n",
       "      <td>-0.000105</td>\n",
       "      <td>-0.000067</td>\n",
       "      <td>-0.000072</td>\n",
       "      <td>-0.000148</td>\n",
       "      <td>-0.000026</td>\n",
       "    </tr>\n",
       "    <tr>\n",
       "      <th>4</th>\n",
       "      <td>-0.000087</td>\n",
       "      <td>-0.000053</td>\n",
       "      <td>-0.000052</td>\n",
       "      <td>-0.000051</td>\n",
       "      <td>-0.000045</td>\n",
       "      <td>-0.000043</td>\n",
       "      <td>-0.000071</td>\n",
       "      <td>-0.000087</td>\n",
       "      <td>-0.000065</td>\n",
       "      <td>-0.000064</td>\n",
       "      <td>...</td>\n",
       "      <td>-0.000075</td>\n",
       "      <td>-0.000082</td>\n",
       "      <td>-0.000090</td>\n",
       "      <td>-0.000117</td>\n",
       "      <td>-0.000119</td>\n",
       "      <td>-0.000118</td>\n",
       "      <td>-0.000075</td>\n",
       "      <td>-0.000082</td>\n",
       "      <td>-0.000161</td>\n",
       "      <td>-0.000035</td>\n",
       "    </tr>\n",
       "    <tr>\n",
       "      <th>...</th>\n",
       "      <td>...</td>\n",
       "      <td>...</td>\n",
       "      <td>...</td>\n",
       "      <td>...</td>\n",
       "      <td>...</td>\n",
       "      <td>...</td>\n",
       "      <td>...</td>\n",
       "      <td>...</td>\n",
       "      <td>...</td>\n",
       "      <td>...</td>\n",
       "      <td>...</td>\n",
       "      <td>...</td>\n",
       "      <td>...</td>\n",
       "      <td>...</td>\n",
       "      <td>...</td>\n",
       "      <td>...</td>\n",
       "      <td>...</td>\n",
       "      <td>...</td>\n",
       "      <td>...</td>\n",
       "      <td>...</td>\n",
       "      <td>...</td>\n",
       "    </tr>\n",
       "    <tr>\n",
       "      <th>299995</th>\n",
       "      <td>-0.000005</td>\n",
       "      <td>-0.000025</td>\n",
       "      <td>-0.000043</td>\n",
       "      <td>0.000008</td>\n",
       "      <td>-0.000020</td>\n",
       "      <td>-0.000024</td>\n",
       "      <td>-0.000028</td>\n",
       "      <td>-0.000019</td>\n",
       "      <td>-0.000024</td>\n",
       "      <td>-0.000022</td>\n",
       "      <td>...</td>\n",
       "      <td>0.000003</td>\n",
       "      <td>-0.000007</td>\n",
       "      <td>-0.000014</td>\n",
       "      <td>-0.000004</td>\n",
       "      <td>-0.000009</td>\n",
       "      <td>-0.000003</td>\n",
       "      <td>0.000001</td>\n",
       "      <td>0.000001</td>\n",
       "      <td>-0.000004</td>\n",
       "      <td>0.000005</td>\n",
       "    </tr>\n",
       "    <tr>\n",
       "      <th>299996</th>\n",
       "      <td>-0.000013</td>\n",
       "      <td>-0.000029</td>\n",
       "      <td>-0.000046</td>\n",
       "      <td>0.000006</td>\n",
       "      <td>-0.000021</td>\n",
       "      <td>-0.000020</td>\n",
       "      <td>-0.000010</td>\n",
       "      <td>-0.000026</td>\n",
       "      <td>-0.000027</td>\n",
       "      <td>-0.000025</td>\n",
       "      <td>...</td>\n",
       "      <td>0.000001</td>\n",
       "      <td>-0.000016</td>\n",
       "      <td>-0.000020</td>\n",
       "      <td>-0.000005</td>\n",
       "      <td>-0.000011</td>\n",
       "      <td>-0.000008</td>\n",
       "      <td>-0.000002</td>\n",
       "      <td>-0.000004</td>\n",
       "      <td>-0.000010</td>\n",
       "      <td>-0.000001</td>\n",
       "    </tr>\n",
       "    <tr>\n",
       "      <th>299997</th>\n",
       "      <td>-0.000021</td>\n",
       "      <td>-0.000029</td>\n",
       "      <td>-0.000045</td>\n",
       "      <td>0.000008</td>\n",
       "      <td>-0.000017</td>\n",
       "      <td>-0.000014</td>\n",
       "      <td>-0.000005</td>\n",
       "      <td>-0.000028</td>\n",
       "      <td>-0.000028</td>\n",
       "      <td>-0.000026</td>\n",
       "      <td>...</td>\n",
       "      <td>-0.000005</td>\n",
       "      <td>-0.000008</td>\n",
       "      <td>-0.000015</td>\n",
       "      <td>-0.000004</td>\n",
       "      <td>-0.000011</td>\n",
       "      <td>-0.000008</td>\n",
       "      <td>0.000000</td>\n",
       "      <td>-0.000003</td>\n",
       "      <td>-0.000012</td>\n",
       "      <td>0.000000</td>\n",
       "    </tr>\n",
       "    <tr>\n",
       "      <th>299998</th>\n",
       "      <td>-0.000003</td>\n",
       "      <td>-0.000022</td>\n",
       "      <td>-0.000039</td>\n",
       "      <td>0.000013</td>\n",
       "      <td>-0.000012</td>\n",
       "      <td>-0.000010</td>\n",
       "      <td>-0.000012</td>\n",
       "      <td>-0.000020</td>\n",
       "      <td>-0.000021</td>\n",
       "      <td>-0.000021</td>\n",
       "      <td>...</td>\n",
       "      <td>-0.000005</td>\n",
       "      <td>-0.000005</td>\n",
       "      <td>-0.000011</td>\n",
       "      <td>0.000001</td>\n",
       "      <td>-0.000005</td>\n",
       "      <td>0.000001</td>\n",
       "      <td>0.000004</td>\n",
       "      <td>-0.000001</td>\n",
       "      <td>-0.000008</td>\n",
       "      <td>0.000002</td>\n",
       "    </tr>\n",
       "    <tr>\n",
       "      <th>299999</th>\n",
       "      <td>-0.000013</td>\n",
       "      <td>-0.000023</td>\n",
       "      <td>-0.000037</td>\n",
       "      <td>0.000013</td>\n",
       "      <td>-0.000013</td>\n",
       "      <td>-0.000012</td>\n",
       "      <td>-0.000010</td>\n",
       "      <td>-0.000019</td>\n",
       "      <td>-0.000018</td>\n",
       "      <td>-0.000017</td>\n",
       "      <td>...</td>\n",
       "      <td>-0.000003</td>\n",
       "      <td>-0.000006</td>\n",
       "      <td>-0.000011</td>\n",
       "      <td>0.000002</td>\n",
       "      <td>-0.000005</td>\n",
       "      <td>-0.000004</td>\n",
       "      <td>0.000005</td>\n",
       "      <td>0.000001</td>\n",
       "      <td>-0.000005</td>\n",
       "      <td>0.000006</td>\n",
       "    </tr>\n",
       "  </tbody>\n",
       "</table>\n",
       "<p>300000 rows × 64 columns</p>\n",
       "</div>"
      ],
      "text/plain": [
       "        Channel_0  Channel_1  Channel_2  Channel_3  Channel_4  Channel_5  \\\n",
       "0       -0.000057  -0.000013  -0.000015  -0.000012  -0.000013  -0.000008   \n",
       "1       -0.000049  -0.000011  -0.000010  -0.000012  -0.000019  -0.000024   \n",
       "2       -0.000055  -0.000017  -0.000016  -0.000019  -0.000024  -0.000029   \n",
       "3       -0.000073  -0.000042  -0.000040  -0.000037  -0.000037  -0.000040   \n",
       "4       -0.000087  -0.000053  -0.000052  -0.000051  -0.000045  -0.000043   \n",
       "...           ...        ...        ...        ...        ...        ...   \n",
       "299995  -0.000005  -0.000025  -0.000043   0.000008  -0.000020  -0.000024   \n",
       "299996  -0.000013  -0.000029  -0.000046   0.000006  -0.000021  -0.000020   \n",
       "299997  -0.000021  -0.000029  -0.000045   0.000008  -0.000017  -0.000014   \n",
       "299998  -0.000003  -0.000022  -0.000039   0.000013  -0.000012  -0.000010   \n",
       "299999  -0.000013  -0.000023  -0.000037   0.000013  -0.000013  -0.000012   \n",
       "\n",
       "        Channel_6  Channel_7  Channel_8  Channel_9  ...  Channel_54  \\\n",
       "0       -0.000040  -0.000054  -0.000012  -0.000014  ...   -0.000048   \n",
       "1       -0.000058  -0.000051  -0.000019  -0.000023  ...   -0.000055   \n",
       "2       -0.000066  -0.000061  -0.000030  -0.000036  ...   -0.000054   \n",
       "3       -0.000071  -0.000078  -0.000053  -0.000053  ...   -0.000065   \n",
       "4       -0.000071  -0.000087  -0.000065  -0.000064  ...   -0.000075   \n",
       "...           ...        ...        ...        ...  ...         ...   \n",
       "299995  -0.000028  -0.000019  -0.000024  -0.000022  ...    0.000003   \n",
       "299996  -0.000010  -0.000026  -0.000027  -0.000025  ...    0.000001   \n",
       "299997  -0.000005  -0.000028  -0.000028  -0.000026  ...   -0.000005   \n",
       "299998  -0.000012  -0.000020  -0.000021  -0.000021  ...   -0.000005   \n",
       "299999  -0.000010  -0.000019  -0.000018  -0.000017  ...   -0.000003   \n",
       "\n",
       "        Channel_55  Channel_56  Channel_57  Channel_58  Channel_59  \\\n",
       "0        -0.000038   -0.000042   -0.000068   -0.000076   -0.000103   \n",
       "1        -0.000055   -0.000063   -0.000082   -0.000087   -0.000099   \n",
       "2        -0.000063   -0.000072   -0.000091   -0.000092   -0.000091   \n",
       "3        -0.000052   -0.000066   -0.000100   -0.000105   -0.000105   \n",
       "4        -0.000082   -0.000090   -0.000117   -0.000119   -0.000118   \n",
       "...            ...         ...         ...         ...         ...   \n",
       "299995   -0.000007   -0.000014   -0.000004   -0.000009   -0.000003   \n",
       "299996   -0.000016   -0.000020   -0.000005   -0.000011   -0.000008   \n",
       "299997   -0.000008   -0.000015   -0.000004   -0.000011   -0.000008   \n",
       "299998   -0.000005   -0.000011    0.000001   -0.000005    0.000001   \n",
       "299999   -0.000006   -0.000011    0.000002   -0.000005   -0.000004   \n",
       "\n",
       "        Channel_60  Channel_61  Channel_62  Channel_63  \n",
       "0        -0.000051   -0.000056   -0.000124   -0.000028  \n",
       "1        -0.000059   -0.000070   -0.000149   -0.000040  \n",
       "2        -0.000067   -0.000077   -0.000153   -0.000037  \n",
       "3        -0.000067   -0.000072   -0.000148   -0.000026  \n",
       "4        -0.000075   -0.000082   -0.000161   -0.000035  \n",
       "...            ...         ...         ...         ...  \n",
       "299995    0.000001    0.000001   -0.000004    0.000005  \n",
       "299996   -0.000002   -0.000004   -0.000010   -0.000001  \n",
       "299997    0.000000   -0.000003   -0.000012    0.000000  \n",
       "299998    0.000004   -0.000001   -0.000008    0.000002  \n",
       "299999    0.000005    0.000001   -0.000005    0.000006  \n",
       "\n",
       "[300000 rows x 64 columns]"
      ]
     },
     "metadata": {},
     "output_type": "display_data"
    }
   ],
   "source": [
    "display(xtrain)"
   ]
  },
  {
   "cell_type": "code",
   "execution_count": 48,
   "id": "459d7ebd",
   "metadata": {},
   "outputs": [],
   "source": [
    "def scale_dataset(dataframe):\n",
    "    x=dataframe.iloc[:,:-1].values\n",
    "    y=dataframe.iloc[:,-1].values\n",
    "    scaler =StandardScaler()\n",
    "    x=scaler.fit_transform(x)\n",
    "    return x,y"
   ]
  },
  {
   "cell_type": "markdown",
   "id": "28ca8db1",
   "metadata": {},
   "source": [
    "## 0-8"
   ]
  },
  {
   "cell_type": "code",
   "execution_count": 49,
   "id": "06d6dca4",
   "metadata": {},
   "outputs": [],
   "source": [
    "xtrain8=xtrain.iloc[:,:8]\n",
    "xtest8=xtest.iloc[:,:8]"
   ]
  },
  {
   "cell_type": "code",
   "execution_count": 50,
   "id": "7c1d5765",
   "metadata": {},
   "outputs": [
    {
     "name": "stderr",
     "output_type": "stream",
     "text": [
      "c:\\users\\sassa\\appdata\\local\\programs\\python\\python37\\lib\\site-packages\\ipykernel_launcher.py:1: SettingWithCopyWarning: \n",
      "A value is trying to be set on a copy of a slice from a DataFrame.\n",
      "Try using .loc[row_indexer,col_indexer] = value instead\n",
      "\n",
      "See the caveats in the documentation: https://pandas.pydata.org/pandas-docs/stable/user_guide/indexing.html#returning-a-view-versus-a-copy\n",
      "  \"\"\"Entry point for launching an IPython kernel.\n",
      "c:\\users\\sassa\\appdata\\local\\programs\\python\\python37\\lib\\site-packages\\ipykernel_launcher.py:2: SettingWithCopyWarning: \n",
      "A value is trying to be set on a copy of a slice from a DataFrame.\n",
      "Try using .loc[row_indexer,col_indexer] = value instead\n",
      "\n",
      "See the caveats in the documentation: https://pandas.pydata.org/pandas-docs/stable/user_guide/indexing.html#returning-a-view-versus-a-copy\n",
      "  \n"
     ]
    }
   ],
   "source": [
    "xtrain8['id']=ytrain\n",
    "xtest8['id']=ytest"
   ]
  },
  {
   "cell_type": "code",
   "execution_count": 51,
   "id": "b732f40b",
   "metadata": {},
   "outputs": [],
   "source": [
    "x8,y8=scale_dataset(xtrain8)\n",
    "xt8,yt8=scale_dataset(xtest8)"
   ]
  },
  {
   "cell_type": "code",
   "execution_count": 52,
   "id": "f23ac595",
   "metadata": {},
   "outputs": [
    {
     "data": {
      "text/plain": [
       "LogisticRegression()"
      ]
     },
     "execution_count": 52,
     "metadata": {},
     "output_type": "execute_result"
    }
   ],
   "source": [
    "lr_model=LogisticRegression()\n",
    "lr_model.fit(x8,y8)"
   ]
  },
  {
   "cell_type": "code",
   "execution_count": 53,
   "id": "506dcc69",
   "metadata": {},
   "outputs": [
    {
     "name": "stdout",
     "output_type": "stream",
     "text": [
      "              precision    recall  f1-score   support\n",
      "\n",
      "           1       0.04      0.03      0.03      2999\n",
      "           2       0.09      0.03      0.05      2999\n",
      "           3       0.02      0.00      0.01      2999\n",
      "           4       0.03      0.02      0.02      2999\n",
      "           5       0.03      0.09      0.04      2999\n",
      "           6       0.05      0.13      0.07      2999\n",
      "           7       0.02      0.02      0.02      2999\n",
      "           8       0.17      0.11      0.14      2999\n",
      "           9       0.28      0.52      0.37      2999\n",
      "          10       0.02      0.01      0.01      2999\n",
      "          11       0.21      0.13      0.16      2999\n",
      "          12       0.07      0.01      0.02      2999\n",
      "          13       0.05      0.06      0.05      2999\n",
      "          14       0.01      0.01      0.01      2999\n",
      "          15       0.07      0.01      0.02      2999\n",
      "          16       0.10      0.02      0.03      2999\n",
      "          17       0.06      0.16      0.08      2999\n",
      "          18       0.41      0.24      0.30      2999\n",
      "          19       0.11      0.05      0.07      2999\n",
      "          20       0.03      0.01      0.01      2999\n",
      "          21       0.06      0.01      0.02      2999\n",
      "          22       0.05      0.07      0.06      2999\n",
      "          23       0.08      0.11      0.09      2999\n",
      "          24       0.17      0.45      0.25      2999\n",
      "          25       0.00      0.00      0.00      2999\n",
      "\n",
      "    accuracy                           0.09     74975\n",
      "   macro avg       0.09      0.09      0.08     74975\n",
      "weighted avg       0.09      0.09      0.08     74975\n",
      "\n"
     ]
    }
   ],
   "source": [
    "y_pred=lr_model.predict(xt8)\n",
    "print(classification_report(yt8,y_pred))"
   ]
  },
  {
   "cell_type": "markdown",
   "id": "2c78cc60",
   "metadata": {},
   "source": [
    "## 0-16"
   ]
  },
  {
   "cell_type": "code",
   "execution_count": 54,
   "id": "7aad9a0a",
   "metadata": {},
   "outputs": [],
   "source": [
    "xtrain16=xtrain.iloc[:,:16]\n",
    "xtest16=xtest.iloc[:,:16]"
   ]
  },
  {
   "cell_type": "code",
   "execution_count": 55,
   "id": "872c82a1",
   "metadata": {},
   "outputs": [
    {
     "name": "stderr",
     "output_type": "stream",
     "text": [
      "c:\\users\\sassa\\appdata\\local\\programs\\python\\python37\\lib\\site-packages\\ipykernel_launcher.py:1: SettingWithCopyWarning: \n",
      "A value is trying to be set on a copy of a slice from a DataFrame.\n",
      "Try using .loc[row_indexer,col_indexer] = value instead\n",
      "\n",
      "See the caveats in the documentation: https://pandas.pydata.org/pandas-docs/stable/user_guide/indexing.html#returning-a-view-versus-a-copy\n",
      "  \"\"\"Entry point for launching an IPython kernel.\n",
      "c:\\users\\sassa\\appdata\\local\\programs\\python\\python37\\lib\\site-packages\\ipykernel_launcher.py:2: SettingWithCopyWarning: \n",
      "A value is trying to be set on a copy of a slice from a DataFrame.\n",
      "Try using .loc[row_indexer,col_indexer] = value instead\n",
      "\n",
      "See the caveats in the documentation: https://pandas.pydata.org/pandas-docs/stable/user_guide/indexing.html#returning-a-view-versus-a-copy\n",
      "  \n"
     ]
    }
   ],
   "source": [
    "xtrain16['id']=ytrain\n",
    "xtest16['id']=ytest"
   ]
  },
  {
   "cell_type": "code",
   "execution_count": 56,
   "id": "58862707",
   "metadata": {},
   "outputs": [],
   "source": [
    "x16,y16=scale_dataset(xtrain16)\n",
    "xt16,yt16=scale_dataset(xtest16)"
   ]
  },
  {
   "cell_type": "code",
   "execution_count": 57,
   "id": "7c18b3fd",
   "metadata": {},
   "outputs": [
    {
     "data": {
      "text/plain": [
       "LogisticRegression()"
      ]
     },
     "execution_count": 57,
     "metadata": {},
     "output_type": "execute_result"
    }
   ],
   "source": [
    "lr_model=LogisticRegression()\n",
    "lr_model.fit(x16,y16)"
   ]
  },
  {
   "cell_type": "code",
   "execution_count": 58,
   "id": "0b9b71f4",
   "metadata": {},
   "outputs": [
    {
     "name": "stdout",
     "output_type": "stream",
     "text": [
      "              precision    recall  f1-score   support\n",
      "\n",
      "           1       0.07      0.04      0.05      2999\n",
      "           2       0.05      0.01      0.02      2999\n",
      "           3       0.04      0.05      0.05      2999\n",
      "           4       0.00      0.00      0.00      2999\n",
      "           5       0.13      0.24      0.16      2999\n",
      "           6       0.07      0.10      0.08      2999\n",
      "           7       0.04      0.04      0.04      2999\n",
      "           8       0.09      0.02      0.04      2999\n",
      "           9       0.31      0.50      0.38      2999\n",
      "          10       0.09      0.13      0.11      2999\n",
      "          11       0.05      0.03      0.04      2999\n",
      "          12       0.05      0.01      0.01      2999\n",
      "          13       0.11      0.13      0.12      2999\n",
      "          14       0.01      0.00      0.00      2999\n",
      "          15       0.10      0.03      0.05      2999\n",
      "          16       0.03      0.02      0.02      2999\n",
      "          17       0.00      0.01      0.01      2999\n",
      "          18       0.37      0.50      0.43      2999\n",
      "          19       0.17      0.17      0.17      2999\n",
      "          20       0.10      0.05      0.07      2999\n",
      "          21       0.34      0.09      0.15      2999\n",
      "          22       0.10      0.13      0.11      2999\n",
      "          23       0.14      0.26      0.18      2999\n",
      "          24       0.22      0.46      0.30      2999\n",
      "          25       0.13      0.15      0.14      2999\n",
      "\n",
      "    accuracy                           0.13     74975\n",
      "   macro avg       0.11      0.13      0.11     74975\n",
      "weighted avg       0.11      0.13      0.11     74975\n",
      "\n"
     ]
    }
   ],
   "source": [
    "y_pred=lr_model.predict(xt16)\n",
    "print(classification_report(yt16,y_pred))"
   ]
  },
  {
   "cell_type": "markdown",
   "id": "115650ca",
   "metadata": {},
   "source": [
    "## 0-32"
   ]
  },
  {
   "cell_type": "code",
   "execution_count": 59,
   "id": "eaa9f62f",
   "metadata": {},
   "outputs": [],
   "source": [
    "xtrain32=xtrain.iloc[:,:32]\n",
    "xtest32=xtest.iloc[:,:32]"
   ]
  },
  {
   "cell_type": "code",
   "execution_count": 60,
   "id": "4ad93670",
   "metadata": {},
   "outputs": [
    {
     "name": "stderr",
     "output_type": "stream",
     "text": [
      "c:\\users\\sassa\\appdata\\local\\programs\\python\\python37\\lib\\site-packages\\ipykernel_launcher.py:1: SettingWithCopyWarning: \n",
      "A value is trying to be set on a copy of a slice from a DataFrame.\n",
      "Try using .loc[row_indexer,col_indexer] = value instead\n",
      "\n",
      "See the caveats in the documentation: https://pandas.pydata.org/pandas-docs/stable/user_guide/indexing.html#returning-a-view-versus-a-copy\n",
      "  \"\"\"Entry point for launching an IPython kernel.\n",
      "c:\\users\\sassa\\appdata\\local\\programs\\python\\python37\\lib\\site-packages\\ipykernel_launcher.py:2: SettingWithCopyWarning: \n",
      "A value is trying to be set on a copy of a slice from a DataFrame.\n",
      "Try using .loc[row_indexer,col_indexer] = value instead\n",
      "\n",
      "See the caveats in the documentation: https://pandas.pydata.org/pandas-docs/stable/user_guide/indexing.html#returning-a-view-versus-a-copy\n",
      "  \n"
     ]
    }
   ],
   "source": [
    "xtrain32['id']=ytrain\n",
    "xtest32['id']=ytest"
   ]
  },
  {
   "cell_type": "code",
   "execution_count": 61,
   "id": "b66ceb6f",
   "metadata": {},
   "outputs": [],
   "source": [
    "x32,y32=scale_dataset(xtrain32)\n",
    "xt32,yt32=scale_dataset(xtest32)"
   ]
  },
  {
   "cell_type": "code",
   "execution_count": 62,
   "id": "8bbd9c8f",
   "metadata": {},
   "outputs": [
    {
     "name": "stderr",
     "output_type": "stream",
     "text": [
      "c:\\users\\sassa\\appdata\\local\\programs\\python\\python37\\lib\\site-packages\\sklearn\\linear_model\\_logistic.py:765: ConvergenceWarning: lbfgs failed to converge (status=1):\n",
      "STOP: TOTAL NO. of ITERATIONS REACHED LIMIT.\n",
      "\n",
      "Increase the number of iterations (max_iter) or scale the data as shown in:\n",
      "    https://scikit-learn.org/stable/modules/preprocessing.html\n",
      "Please also refer to the documentation for alternative solver options:\n",
      "    https://scikit-learn.org/stable/modules/linear_model.html#logistic-regression\n",
      "  extra_warning_msg=_LOGISTIC_SOLVER_CONVERGENCE_MSG)\n"
     ]
    },
    {
     "data": {
      "text/plain": [
       "LogisticRegression()"
      ]
     },
     "execution_count": 62,
     "metadata": {},
     "output_type": "execute_result"
    }
   ],
   "source": [
    "lr_model=LogisticRegression()\n",
    "lr_model.fit(x32,y32)"
   ]
  },
  {
   "cell_type": "code",
   "execution_count": 63,
   "id": "f81def38",
   "metadata": {},
   "outputs": [
    {
     "name": "stdout",
     "output_type": "stream",
     "text": [
      "              precision    recall  f1-score   support\n",
      "\n",
      "           1       0.21      0.10      0.13      2999\n",
      "           2       0.11      0.05      0.07      2999\n",
      "           3       0.33      0.35      0.34      2999\n",
      "           4       0.03      0.02      0.02      2999\n",
      "           5       0.20      0.23      0.21      2999\n",
      "           6       0.23      0.26      0.24      2999\n",
      "           7       0.43      0.65      0.52      2999\n",
      "           8       0.14      0.06      0.08      2999\n",
      "           9       0.32      0.33      0.33      2999\n",
      "          10       0.11      0.07      0.08      2999\n",
      "          11       0.18      0.16      0.17      2999\n",
      "          12       0.27      0.36      0.31      2999\n",
      "          13       0.13      0.16      0.14      2999\n",
      "          14       0.28      0.24      0.26      2999\n",
      "          15       0.17      0.17      0.17      2999\n",
      "          16       0.29      0.28      0.28      2999\n",
      "          17       0.02      0.02      0.02      2999\n",
      "          18       0.39      0.63      0.48      2999\n",
      "          19       0.18      0.20      0.19      2999\n",
      "          20       0.21      0.14      0.17      2999\n",
      "          21       0.61      0.41      0.49      2999\n",
      "          22       0.40      0.50      0.44      2999\n",
      "          23       0.18      0.15      0.16      2999\n",
      "          24       0.28      0.49      0.35      2999\n",
      "          25       0.16      0.17      0.16      2999\n",
      "\n",
      "    accuracy                           0.25     74975\n",
      "   macro avg       0.23      0.25      0.23     74975\n",
      "weighted avg       0.23      0.25      0.23     74975\n",
      "\n"
     ]
    }
   ],
   "source": [
    "y_pred=lr_model.predict(xt32)\n",
    "print(classification_report(yt32,y_pred))"
   ]
  },
  {
   "cell_type": "markdown",
   "id": "12d356e2",
   "metadata": {},
   "source": [
    "## 0-64"
   ]
  },
  {
   "cell_type": "code",
   "execution_count": 64,
   "id": "228a9b1b",
   "metadata": {},
   "outputs": [],
   "source": [
    "xtrain['id']=ytrain\n",
    "xtest['id']=ytest"
   ]
  },
  {
   "cell_type": "code",
   "execution_count": 65,
   "id": "cf1927ff",
   "metadata": {},
   "outputs": [],
   "source": [
    "x,y=scale_dataset(xtrain)\n",
    "xt,yt=scale_dataset(xtest)"
   ]
  },
  {
   "cell_type": "code",
   "execution_count": 66,
   "id": "3361defb",
   "metadata": {},
   "outputs": [
    {
     "name": "stderr",
     "output_type": "stream",
     "text": [
      "c:\\users\\sassa\\appdata\\local\\programs\\python\\python37\\lib\\site-packages\\sklearn\\linear_model\\_logistic.py:765: ConvergenceWarning: lbfgs failed to converge (status=1):\n",
      "STOP: TOTAL NO. of ITERATIONS REACHED LIMIT.\n",
      "\n",
      "Increase the number of iterations (max_iter) or scale the data as shown in:\n",
      "    https://scikit-learn.org/stable/modules/preprocessing.html\n",
      "Please also refer to the documentation for alternative solver options:\n",
      "    https://scikit-learn.org/stable/modules/linear_model.html#logistic-regression\n",
      "  extra_warning_msg=_LOGISTIC_SOLVER_CONVERGENCE_MSG)\n"
     ]
    },
    {
     "data": {
      "text/plain": [
       "LogisticRegression()"
      ]
     },
     "execution_count": 66,
     "metadata": {},
     "output_type": "execute_result"
    }
   ],
   "source": [
    "lr_model=LogisticRegression()\n",
    "lr_model.fit(x,y)"
   ]
  },
  {
   "cell_type": "code",
   "execution_count": 67,
   "id": "43017064",
   "metadata": {
    "scrolled": false
   },
   "outputs": [
    {
     "name": "stdout",
     "output_type": "stream",
     "text": [
      "              precision    recall  f1-score   support\n",
      "\n",
      "           1       0.29      0.16      0.20      2999\n",
      "           2       0.32      0.30      0.31      2999\n",
      "           3       0.41      0.33      0.36      2999\n",
      "           4       0.87      0.69      0.77      2999\n",
      "           5       0.21      0.17      0.19      2999\n",
      "           6       0.39      0.48      0.43      2999\n",
      "           7       0.53      0.78      0.63      2999\n",
      "           8       0.22      0.10      0.14      2999\n",
      "           9       0.28      0.24      0.26      2999\n",
      "          10       0.21      0.17      0.19      2999\n",
      "          11       0.23      0.22      0.23      2999\n",
      "          12       0.43      0.43      0.43      2999\n",
      "          13       0.26      0.26      0.26      2999\n",
      "          14       0.21      0.18      0.19      2999\n",
      "          15       0.22      0.24      0.23      2999\n",
      "          16       0.51      0.47      0.49      2999\n",
      "          17       0.00      0.00      0.00      2999\n",
      "          18       0.49      0.72      0.58      2999\n",
      "          19       0.36      0.37      0.36      2999\n",
      "          20       0.39      0.36      0.38      2999\n",
      "          21       0.47      0.70      0.56      2999\n",
      "          22       0.61      0.47      0.53      2999\n",
      "          23       0.27      0.31      0.29      2999\n",
      "          24       0.45      0.57      0.51      2999\n",
      "          25       0.45      0.60      0.51      2999\n",
      "\n",
      "    accuracy                           0.37     74975\n",
      "   macro avg       0.36      0.37      0.36     74975\n",
      "weighted avg       0.36      0.37      0.36     74975\n",
      "\n"
     ]
    }
   ],
   "source": [
    "y_pred=lr_model.predict(xt)\n",
    "print(classification_report(yt,y_pred))"
   ]
  },
  {
   "cell_type": "code",
   "execution_count": null,
   "id": "f4e7c592",
   "metadata": {},
   "outputs": [],
   "source": []
  }
 ],
 "metadata": {
  "kernelspec": {
   "display_name": "Python 3 (ipykernel)",
   "language": "python",
   "name": "python3"
  },
  "language_info": {
   "codemirror_mode": {
    "name": "ipython",
    "version": 3
   },
   "file_extension": ".py",
   "mimetype": "text/x-python",
   "name": "python",
   "nbconvert_exporter": "python",
   "pygments_lexer": "ipython3",
   "version": "3.7.5"
  }
 },
 "nbformat": 4,
 "nbformat_minor": 5
}
